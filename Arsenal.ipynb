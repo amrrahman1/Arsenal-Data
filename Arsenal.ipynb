{
  "nbformat": 4,
  "nbformat_minor": 0,
  "metadata": {
    "colab": {
      "name": "Arsenal.ipynb",
      "provenance": [],
      "authorship_tag": "ABX9TyNnqJZ+RNyfF37daM/F9snc",
      "include_colab_link": true
    },
    "kernelspec": {
      "name": "python3",
      "display_name": "Python 3"
    },
    "language_info": {
      "name": "python"
    }
  },
  "cells": [
    {
      "cell_type": "markdown",
      "metadata": {
        "id": "view-in-github",
        "colab_type": "text"
      },
      "source": [
        "<a href=\"https://colab.research.google.com/github/amrrahman1/Arsenal-Data/blob/main/Arsenal.ipynb\" target=\"_parent\"><img src=\"https://colab.research.google.com/assets/colab-badge.svg\" alt=\"Open In Colab\"/></a>"
      ]
    },
    {
      "cell_type": "code",
      "metadata": {
        "colab": {
          "base_uri": "https://localhost:8080/"
        },
        "id": "27YBiCAO2Qcr",
        "outputId": "c2e0e217-fd54-4f77-aa97-dc70d987d2a2"
      },
      "source": [
        "from google.colab import drive\n",
        "drive.mount('/content/drive')\n"
      ],
      "execution_count": 35,
      "outputs": [
        {
          "output_type": "stream",
          "name": "stdout",
          "text": [
            "Drive already mounted at /content/drive; to attempt to forcibly remount, call drive.mount(\"/content/drive\", force_remount=True).\n"
          ]
        }
      ]
    },
    {
      "cell_type": "code",
      "metadata": {
        "id": "Q8r2oJnH2hJ_"
      },
      "source": [
        "import matplotlib.pyplot as plt\n",
        "import seaborn as sns\n",
        "import pandas as pd\n",
        "import numpy as np"
      ],
      "execution_count": 91,
      "outputs": []
    },
    {
      "cell_type": "code",
      "metadata": {
        "id": "TSidxTEB3Vl_"
      },
      "source": [
        "filename = '/content/drive/MyDrive/Week51.xlsx'\n",
        "df = pd.read_excel(filename)"
      ],
      "execution_count": 37,
      "outputs": []
    },
    {
      "cell_type": "code",
      "metadata": {
        "colab": {
          "base_uri": "https://localhost:8080/",
          "height": 206
        },
        "id": "Mpnbc2YO3x-4",
        "outputId": "fb3b0098-3dd8-4521-f16d-f5574288207e"
      },
      "source": [
        "df.head()"
      ],
      "execution_count": 135,
      "outputs": [
        {
          "output_type": "execute_result",
          "data": {
            "text/html": [
              "<div>\n",
              "<style scoped>\n",
              "    .dataframe tbody tr th:only-of-type {\n",
              "        vertical-align: middle;\n",
              "    }\n",
              "\n",
              "    .dataframe tbody tr th {\n",
              "        vertical-align: top;\n",
              "    }\n",
              "\n",
              "    .dataframe thead th {\n",
              "        text-align: right;\n",
              "    }\n",
              "</style>\n",
              "<table border=\"1\" class=\"dataframe\">\n",
              "  <thead>\n",
              "    <tr style=\"text-align: right;\">\n",
              "      <th></th>\n",
              "      <th>Season</th>\n",
              "      <th>Played</th>\n",
              "      <th>Won</th>\n",
              "      <th>Drawn</th>\n",
              "      <th>Lost</th>\n",
              "      <th>Goals For</th>\n",
              "      <th>Goals Against</th>\n",
              "      <th>Goal Difference</th>\n",
              "      <th>Points</th>\n",
              "      <th>Position</th>\n",
              "      <th>Final Points</th>\n",
              "      <th>Final Position</th>\n",
              "    </tr>\n",
              "  </thead>\n",
              "  <tbody>\n",
              "    <tr>\n",
              "      <th>0</th>\n",
              "      <td>1992/93</td>\n",
              "      <td>19</td>\n",
              "      <td>9</td>\n",
              "      <td>2</td>\n",
              "      <td>8</td>\n",
              "      <td>22</td>\n",
              "      <td>20</td>\n",
              "      <td>2</td>\n",
              "      <td>29</td>\n",
              "      <td>8</td>\n",
              "      <td>56.0</td>\n",
              "      <td>10.0</td>\n",
              "    </tr>\n",
              "    <tr>\n",
              "      <th>1</th>\n",
              "      <td>1993/94</td>\n",
              "      <td>21</td>\n",
              "      <td>9</td>\n",
              "      <td>7</td>\n",
              "      <td>5</td>\n",
              "      <td>20</td>\n",
              "      <td>13</td>\n",
              "      <td>7</td>\n",
              "      <td>34</td>\n",
              "      <td>5</td>\n",
              "      <td>71.0</td>\n",
              "      <td>4.0</td>\n",
              "    </tr>\n",
              "    <tr>\n",
              "      <th>2</th>\n",
              "      <td>1994/95</td>\n",
              "      <td>19</td>\n",
              "      <td>6</td>\n",
              "      <td>6</td>\n",
              "      <td>7</td>\n",
              "      <td>23</td>\n",
              "      <td>22</td>\n",
              "      <td>1</td>\n",
              "      <td>24</td>\n",
              "      <td>11</td>\n",
              "      <td>51.0</td>\n",
              "      <td>12.0</td>\n",
              "    </tr>\n",
              "    <tr>\n",
              "      <th>3</th>\n",
              "      <td>1995/96</td>\n",
              "      <td>18</td>\n",
              "      <td>8</td>\n",
              "      <td>7</td>\n",
              "      <td>3</td>\n",
              "      <td>23</td>\n",
              "      <td>12</td>\n",
              "      <td>11</td>\n",
              "      <td>31</td>\n",
              "      <td>6</td>\n",
              "      <td>63.0</td>\n",
              "      <td>5.0</td>\n",
              "    </tr>\n",
              "    <tr>\n",
              "      <th>4</th>\n",
              "      <td>1996/97</td>\n",
              "      <td>17</td>\n",
              "      <td>10</td>\n",
              "      <td>5</td>\n",
              "      <td>2</td>\n",
              "      <td>34</td>\n",
              "      <td>16</td>\n",
              "      <td>18</td>\n",
              "      <td>35</td>\n",
              "      <td>2</td>\n",
              "      <td>68.0</td>\n",
              "      <td>3.0</td>\n",
              "    </tr>\n",
              "  </tbody>\n",
              "</table>\n",
              "</div>"
            ],
            "text/plain": [
              "    Season  Played  Won  Drawn  ...  Points  Position  Final Points  Final Position\n",
              "0  1992/93      19    9      2  ...      29         8          56.0            10.0\n",
              "1  1993/94      21    9      7  ...      34         5          71.0             4.0\n",
              "2  1994/95      19    6      6  ...      24        11          51.0            12.0\n",
              "3  1995/96      18    8      7  ...      31         6          63.0             5.0\n",
              "4  1996/97      17   10      5  ...      35         2          68.0             3.0\n",
              "\n",
              "[5 rows x 12 columns]"
            ]
          },
          "metadata": {},
          "execution_count": 135
        }
      ]
    },
    {
      "cell_type": "code",
      "metadata": {
        "colab": {
          "base_uri": "https://localhost:8080/"
        },
        "id": "I6r5j_HL3207",
        "outputId": "7695b29c-eca2-484e-9571-1d24a51ce7e5"
      },
      "source": [
        "df.info()"
      ],
      "execution_count": 108,
      "outputs": [
        {
          "output_type": "stream",
          "name": "stdout",
          "text": [
            "<class 'pandas.core.frame.DataFrame'>\n",
            "Int64Index: 28 entries, 0 to 27\n",
            "Data columns (total 12 columns):\n",
            " #   Column           Non-Null Count  Dtype  \n",
            "---  ------           --------------  -----  \n",
            " 0   Season           28 non-null     object \n",
            " 1   Played           28 non-null     int64  \n",
            " 2   Won              28 non-null     int64  \n",
            " 3   Drawn            28 non-null     int64  \n",
            " 4   Lost             28 non-null     int64  \n",
            " 5   Goals For        28 non-null     int64  \n",
            " 6   Goals Against    28 non-null     int64  \n",
            " 7   Goal Difference  28 non-null     int64  \n",
            " 8   Points           28 non-null     int64  \n",
            " 9   Position         28 non-null     int64  \n",
            " 10  Final Points     28 non-null     float64\n",
            " 11  Final Position   28 non-null     float64\n",
            "dtypes: float64(2), int64(9), object(1)\n",
            "memory usage: 2.8+ KB\n"
          ]
        }
      ]
    },
    {
      "cell_type": "code",
      "metadata": {
        "colab": {
          "base_uri": "https://localhost:8080/"
        },
        "id": "7ZVxaQZV4-O6",
        "outputId": "609d6db7-cc6c-4574-9a47-5ba86befb59f"
      },
      "source": [
        "df.dtypes"
      ],
      "execution_count": 109,
      "outputs": [
        {
          "output_type": "execute_result",
          "data": {
            "text/plain": [
              "Season              object\n",
              "Played               int64\n",
              "Won                  int64\n",
              "Drawn                int64\n",
              "Lost                 int64\n",
              "Goals For            int64\n",
              "Goals Against        int64\n",
              "Goal Difference      int64\n",
              "Points               int64\n",
              "Position             int64\n",
              "Final Points       float64\n",
              "Final Position     float64\n",
              "dtype: object"
            ]
          },
          "metadata": {},
          "execution_count": 109
        }
      ]
    },
    {
      "cell_type": "code",
      "metadata": {
        "colab": {
          "base_uri": "https://localhost:8080/"
        },
        "id": "mcIIs5gm5GX5",
        "outputId": "9b38c85c-8d69-48b0-b70b-b2992e652d83"
      },
      "source": [
        "df.duplicated().any()\n"
      ],
      "execution_count": 17,
      "outputs": [
        {
          "output_type": "execute_result",
          "data": {
            "text/plain": [
              "False"
            ]
          },
          "metadata": {},
          "execution_count": 17
        }
      ]
    },
    {
      "cell_type": "code",
      "metadata": {
        "colab": {
          "base_uri": "https://localhost:8080/",
          "height": 49
        },
        "id": "zYqlhOvo6JHo",
        "outputId": "84d2a15c-8074-4974-8134-d153dd0af5e4"
      },
      "source": [
        "df[df.duplicated(keep = False)]"
      ],
      "execution_count": 40,
      "outputs": [
        {
          "output_type": "execute_result",
          "data": {
            "text/html": [
              "<div>\n",
              "<style scoped>\n",
              "    .dataframe tbody tr th:only-of-type {\n",
              "        vertical-align: middle;\n",
              "    }\n",
              "\n",
              "    .dataframe tbody tr th {\n",
              "        vertical-align: top;\n",
              "    }\n",
              "\n",
              "    .dataframe thead th {\n",
              "        text-align: right;\n",
              "    }\n",
              "</style>\n",
              "<table border=\"1\" class=\"dataframe\">\n",
              "  <thead>\n",
              "    <tr style=\"text-align: right;\">\n",
              "      <th></th>\n",
              "      <th>Season</th>\n",
              "      <th>Played</th>\n",
              "      <th>Won</th>\n",
              "      <th>Drawn</th>\n",
              "      <th>Lost</th>\n",
              "      <th>Goals For</th>\n",
              "      <th>Goals Against</th>\n",
              "      <th>Goal Difference</th>\n",
              "      <th>Points</th>\n",
              "      <th>Position</th>\n",
              "      <th>Final Points</th>\n",
              "      <th>Final Position</th>\n",
              "    </tr>\n",
              "  </thead>\n",
              "  <tbody>\n",
              "  </tbody>\n",
              "</table>\n",
              "</div>"
            ],
            "text/plain": [
              "Empty DataFrame\n",
              "Columns: [Season, Played, Won, Drawn, Lost, Goals For, Goals Against, Goal Difference, Points, Position, Final Points, Final Position]\n",
              "Index: []"
            ]
          },
          "metadata": {},
          "execution_count": 40
        }
      ]
    },
    {
      "cell_type": "code",
      "metadata": {
        "colab": {
          "base_uri": "https://localhost:8080/"
        },
        "id": "pT7XihXs5SBl",
        "outputId": "9e211983-8f65-496f-c950-73dd8a2d543a"
      },
      "source": [
        "df.isnull().sum()"
      ],
      "execution_count": 41,
      "outputs": [
        {
          "output_type": "execute_result",
          "data": {
            "text/plain": [
              "Season             0\n",
              "Played             0\n",
              "Won                0\n",
              "Drawn              0\n",
              "Lost               0\n",
              "Goals For          0\n",
              "Goals Against      0\n",
              "Goal Difference    0\n",
              "Points             0\n",
              "Position           0\n",
              "Final Points       1\n",
              "Final Position     1\n",
              "dtype: int64"
            ]
          },
          "metadata": {},
          "execution_count": 41
        }
      ]
    },
    {
      "cell_type": "code",
      "metadata": {
        "id": "Z9mXZ7cb5V-s"
      },
      "source": [
        "df.dropna(inplace = True)"
      ],
      "execution_count": 110,
      "outputs": []
    },
    {
      "cell_type": "code",
      "metadata": {
        "colab": {
          "base_uri": "https://localhost:8080/"
        },
        "id": "Tsz7BTbl6d12",
        "outputId": "df310f0b-416b-4c58-893a-d981543ebfd9"
      },
      "source": [
        "df.isnull().sum()"
      ],
      "execution_count": 111,
      "outputs": [
        {
          "output_type": "execute_result",
          "data": {
            "text/plain": [
              "Season             0\n",
              "Played             0\n",
              "Won                0\n",
              "Drawn              0\n",
              "Lost               0\n",
              "Goals For          0\n",
              "Goals Against      0\n",
              "Goal Difference    0\n",
              "Points             0\n",
              "Position           0\n",
              "Final Points       0\n",
              "Final Position     0\n",
              "dtype: int64"
            ]
          },
          "metadata": {},
          "execution_count": 111
        }
      ]
    },
    {
      "cell_type": "code",
      "metadata": {
        "colab": {
          "base_uri": "https://localhost:8080/",
          "height": 206
        },
        "id": "G9Rk55ns6hyR",
        "outputId": "42ccb647-a3e4-4818-d2b7-6197ddc59b1e"
      },
      "source": [
        "df.tail()"
      ],
      "execution_count": 93,
      "outputs": [
        {
          "output_type": "execute_result",
          "data": {
            "text/html": [
              "<div>\n",
              "<style scoped>\n",
              "    .dataframe tbody tr th:only-of-type {\n",
              "        vertical-align: middle;\n",
              "    }\n",
              "\n",
              "    .dataframe tbody tr th {\n",
              "        vertical-align: top;\n",
              "    }\n",
              "\n",
              "    .dataframe thead th {\n",
              "        text-align: right;\n",
              "    }\n",
              "</style>\n",
              "<table border=\"1\" class=\"dataframe\">\n",
              "  <thead>\n",
              "    <tr style=\"text-align: right;\">\n",
              "      <th></th>\n",
              "      <th>Season</th>\n",
              "      <th>Played</th>\n",
              "      <th>Won</th>\n",
              "      <th>Drawn</th>\n",
              "      <th>Lost</th>\n",
              "      <th>Goals For</th>\n",
              "      <th>Goals Against</th>\n",
              "      <th>Goal Difference</th>\n",
              "      <th>Points</th>\n",
              "      <th>Position</th>\n",
              "      <th>Final Points</th>\n",
              "      <th>Final Position</th>\n",
              "    </tr>\n",
              "  </thead>\n",
              "  <tbody>\n",
              "    <tr>\n",
              "      <th>23</th>\n",
              "      <td>2015/16</td>\n",
              "      <td>16</td>\n",
              "      <td>10</td>\n",
              "      <td>3</td>\n",
              "      <td>3</td>\n",
              "      <td>29</td>\n",
              "      <td>13</td>\n",
              "      <td>16</td>\n",
              "      <td>33</td>\n",
              "      <td>2</td>\n",
              "      <td>71.0</td>\n",
              "      <td>2.0</td>\n",
              "    </tr>\n",
              "    <tr>\n",
              "      <th>24</th>\n",
              "      <td>2016/17</td>\n",
              "      <td>17</td>\n",
              "      <td>10</td>\n",
              "      <td>4</td>\n",
              "      <td>3</td>\n",
              "      <td>38</td>\n",
              "      <td>19</td>\n",
              "      <td>19</td>\n",
              "      <td>34</td>\n",
              "      <td>4</td>\n",
              "      <td>75.0</td>\n",
              "      <td>5.0</td>\n",
              "    </tr>\n",
              "    <tr>\n",
              "      <th>25</th>\n",
              "      <td>2017/18</td>\n",
              "      <td>18</td>\n",
              "      <td>10</td>\n",
              "      <td>3</td>\n",
              "      <td>5</td>\n",
              "      <td>31</td>\n",
              "      <td>20</td>\n",
              "      <td>11</td>\n",
              "      <td>33</td>\n",
              "      <td>5</td>\n",
              "      <td>63.0</td>\n",
              "      <td>6.0</td>\n",
              "    </tr>\n",
              "    <tr>\n",
              "      <th>26</th>\n",
              "      <td>2018/19</td>\n",
              "      <td>17</td>\n",
              "      <td>10</td>\n",
              "      <td>4</td>\n",
              "      <td>3</td>\n",
              "      <td>37</td>\n",
              "      <td>23</td>\n",
              "      <td>14</td>\n",
              "      <td>34</td>\n",
              "      <td>5</td>\n",
              "      <td>70.0</td>\n",
              "      <td>5.0</td>\n",
              "    </tr>\n",
              "    <tr>\n",
              "      <th>27</th>\n",
              "      <td>2019/20</td>\n",
              "      <td>17</td>\n",
              "      <td>5</td>\n",
              "      <td>7</td>\n",
              "      <td>5</td>\n",
              "      <td>24</td>\n",
              "      <td>27</td>\n",
              "      <td>-3</td>\n",
              "      <td>22</td>\n",
              "      <td>10</td>\n",
              "      <td>56.0</td>\n",
              "      <td>8.0</td>\n",
              "    </tr>\n",
              "  </tbody>\n",
              "</table>\n",
              "</div>"
            ],
            "text/plain": [
              "     Season  Played  Won  Drawn  ...  Points  Position  Final Points  Final Position\n",
              "23  2015/16      16   10      3  ...      33         2          71.0             2.0\n",
              "24  2016/17      17   10      4  ...      34         4          75.0             5.0\n",
              "25  2017/18      18   10      3  ...      33         5          63.0             6.0\n",
              "26  2018/19      17   10      4  ...      34         5          70.0             5.0\n",
              "27  2019/20      17    5      7  ...      22        10          56.0             8.0\n",
              "\n",
              "[5 rows x 12 columns]"
            ]
          },
          "metadata": {},
          "execution_count": 93
        }
      ]
    },
    {
      "cell_type": "code",
      "metadata": {
        "id": "68_5TEnVOi20"
      },
      "source": [
        "import matplotlib.patches as mpatches\n",
        "import matplotlib.pyplot as plt\n",
        "from matplotlib.legend_handler import HandlerLine2D"
      ],
      "execution_count": 112,
      "outputs": []
    },
    {
      "cell_type": "code",
      "metadata": {
        "id": "LU1m7qG0PIUW"
      },
      "source": [
        "df_won = df[['Season','Won']]\n",
        "df_lost = df[['Season','Lost']]\n"
      ],
      "execution_count": 113,
      "outputs": []
    },
    {
      "cell_type": "code",
      "metadata": {
        "id": "_iDwBz1o6--f"
      },
      "source": [
        "last_five= df.iloc[[23,24,25,26,27]]\n"
      ],
      "execution_count": 80,
      "outputs": []
    },
    {
      "cell_type": "code",
      "metadata": {
        "id": "PSqSEFGz7CYz"
      },
      "source": [
        "new_filter = last_five[['Won','Drawn','Lost']].sum()"
      ],
      "execution_count": 118,
      "outputs": []
    },
    {
      "cell_type": "code",
      "metadata": {
        "colab": {
          "base_uri": "https://localhost:8080/",
          "height": 333
        },
        "id": "xDdTCU0bDNZg",
        "outputId": "d43be71c-1d4e-483d-966b-6b2eddbeb4a4"
      },
      "source": [
        "# This graph is to show the sum of won games vs lost and drawn in the last five years.\n",
        "new_filter.plot(x='Games Played', y=['Won','Drawn','Lost'],kind ='bar', color =['green','orange','red'])\n",
        "plt.xticks(rotation=45, horizontalalignment=\"center\")\n",
        "plt.title(\"Games results in the last Five Seasons\")\n",
        "plt.xlabel(\"Result\")\n",
        "plt.ylabel(\"Games Played\")\n",
        "\n",
        "plt.show()\n",
        "print ('Arsenal won more games than they lost in the last 5 years')"
      ],
      "execution_count": 145,
      "outputs": [
        {
          "output_type": "display_data",
          "data": {
            "image/png": "[encoded data removed]",
            "text/plain": [
              "<Figure size 432x288 with 1 Axes>"
            ]
          },
          "metadata": {
            "needs_background": "light"
          }
        },
        {
          "output_type": "stream",
          "name": "stdout",
          "text": [
            "Arsenal won more games than they lost in the last 5 years\n"
          ]
        }
      ]
    },
    {
      "cell_type": "code",
      "metadata": {
        "colab": {
          "base_uri": "https://localhost:8080/",
          "height": 143
        },
        "id": "NbBdeYNPEueP",
        "outputId": "dc85cf22-d354-4043-cc49-ec3878d05f88"
      },
      "source": [
        "# Arsenal won the leage 3 times only in the last 30 years \n",
        "won_leage = df.loc[df['Final Position']== 1]"
      ],
      "execution_count": 134,
      "outputs": [
        {
          "output_type": "execute_result",
          "data": {
            "text/html": [
              "<div>\n",
              "<style scoped>\n",
              "    .dataframe tbody tr th:only-of-type {\n",
              "        vertical-align: middle;\n",
              "    }\n",
              "\n",
              "    .dataframe tbody tr th {\n",
              "        vertical-align: top;\n",
              "    }\n",
              "\n",
              "    .dataframe thead th {\n",
              "        text-align: right;\n",
              "    }\n",
              "</style>\n",
              "<table border=\"1\" class=\"dataframe\">\n",
              "  <thead>\n",
              "    <tr style=\"text-align: right;\">\n",
              "      <th></th>\n",
              "      <th>Season</th>\n",
              "      <th>Played</th>\n",
              "      <th>Won</th>\n",
              "      <th>Drawn</th>\n",
              "      <th>Lost</th>\n",
              "      <th>Goals For</th>\n",
              "      <th>Goals Against</th>\n",
              "      <th>Goal Difference</th>\n",
              "      <th>Points</th>\n",
              "      <th>Position</th>\n",
              "      <th>Final Points</th>\n",
              "      <th>Final Position</th>\n",
              "    </tr>\n",
              "  </thead>\n",
              "  <tbody>\n",
              "    <tr>\n",
              "      <th>5</th>\n",
              "      <td>1997/98</td>\n",
              "      <td>18</td>\n",
              "      <td>8</td>\n",
              "      <td>6</td>\n",
              "      <td>4</td>\n",
              "      <td>32</td>\n",
              "      <td>21</td>\n",
              "      <td>11</td>\n",
              "      <td>30</td>\n",
              "      <td>5</td>\n",
              "      <td>78.0</td>\n",
              "      <td>1.0</td>\n",
              "    </tr>\n",
              "    <tr>\n",
              "      <th>9</th>\n",
              "      <td>2001/02</td>\n",
              "      <td>17</td>\n",
              "      <td>8</td>\n",
              "      <td>6</td>\n",
              "      <td>3</td>\n",
              "      <td>35</td>\n",
              "      <td>21</td>\n",
              "      <td>14</td>\n",
              "      <td>30</td>\n",
              "      <td>3</td>\n",
              "      <td>87.0</td>\n",
              "      <td>1.0</td>\n",
              "    </tr>\n",
              "    <tr>\n",
              "      <th>11</th>\n",
              "      <td>2003/04</td>\n",
              "      <td>16</td>\n",
              "      <td>11</td>\n",
              "      <td>5</td>\n",
              "      <td>0</td>\n",
              "      <td>30</td>\n",
              "      <td>11</td>\n",
              "      <td>19</td>\n",
              "      <td>38</td>\n",
              "      <td>1</td>\n",
              "      <td>90.0</td>\n",
              "      <td>1.0</td>\n",
              "    </tr>\n",
              "  </tbody>\n",
              "</table>\n",
              "</div>"
            ],
            "text/plain": [
              "     Season  Played  Won  Drawn  ...  Points  Position  Final Points  Final Position\n",
              "5   1997/98      18    8      6  ...      30         5          78.0             1.0\n",
              "9   2001/02      17    8      6  ...      30         3          87.0             1.0\n",
              "11  2003/04      16   11      5  ...      38         1          90.0             1.0\n",
              "\n",
              "[3 rows x 12 columns]"
            ]
          },
          "metadata": {},
          "execution_count": 134
        }
      ]
    },
    {
      "cell_type": "code",
      "metadata": {
        "colab": {
          "base_uri": "https://localhost:8080/",
          "height": 281
        },
        "id": "qFkhTvJUVYPF",
        "outputId": "feb60f97-2aed-43d1-e3b0-e2a92b8588f0"
      },
      "source": [
        "df.hist('Final Points');"
      ],
      "execution_count": 138,
      "outputs": [
        {
          "output_type": "display_data",
          "data": {
            "image/png": "[encoded data removed]",
            "text/plain": [
              "<Figure size 432x288 with 1 Axes>"
            ]
          },
          "metadata": {
            "needs_background": "light"
          }
        }
      ]
    },
    {
      "cell_type": "code",
      "metadata": {
        "colab": {
          "base_uri": "https://localhost:8080/",
          "height": 281
        },
        "id": "hMLdEteVWUx9",
        "outputId": "eefd288f-136e-4435-a0f1-024cabe7cb18"
      },
      "source": [
        "df.hist('Goal Difference');"
      ],
      "execution_count": 140,
      "outputs": [
        {
          "output_type": "display_data",
          "data": {
            "image/png": "[encoded data removed]",
            "text/plain": [
              "<Figure size 432x288 with 1 Axes>"
            ]
          },
          "metadata": {
            "needs_background": "light"
          }
        }
      ]
    },
    {
      "cell_type": "code",
      "metadata": {
        "colab": {
          "base_uri": "https://localhost:8080/",
          "height": 279
        },
        "id": "i9RrOggyWtc5",
        "outputId": "866b0f08-af08-4a0f-ce4b-548b1c5884bd"
      },
      "source": [
        "#In this case its a negative correlation but because position no 1 means winning the league so this means that the no of goals scorred.\n",
        "df.plot.scatter(x='Goals For',y='Final Position');"
      ],
      "execution_count": 142,
      "outputs": [
        {
          "output_type": "display_data",
          "data": {
            "image/png": "[encoded data removed]",
            "text/plain": [
              "<Figure size 432x288 with 1 Axes>"
            ]
          },
          "metadata": {
            "needs_background": "light"
          }
        }
      ]
    },
    {
      "cell_type": "code",
      "metadata": {
        "id": "ehIpWReuXSNS"
      },
      "source": [
        ""
      ],
      "execution_count": null,
      "outputs": []
    }
  ]
}